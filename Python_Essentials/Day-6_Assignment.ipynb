{
 "cells": [
  {
   "cell_type": "markdown",
   "metadata": {},
   "source": [
    "# Question-1"
   ]
  },
  {
   "cell_type": "code",
   "execution_count": 1,
   "metadata": {},
   "outputs": [],
   "source": [
    "# Bank Account Program"
   ]
  },
  {
   "cell_type": "code",
   "execution_count": 8,
   "metadata": {},
   "outputs": [
    {
     "name": "stdout",
     "output_type": "stream",
     "text": [
      "\n",
      "###WELCOME TO YOUR ACCOUNT###\n",
      "\n",
      "Account Holder Name is : Surendra A\n",
      "\n",
      "Initial Account Balance is : 0\n",
      "\n",
      "Enter amount to be Deposited : 1299\n",
      "\n",
      "Amount Deposited is : 1299.0\n",
      "\n",
      "Enter amount to be Withdrawn : 1200\n",
      "\n",
      "Your Withdrew Balance is : 1200.0\n",
      "\n",
      "Avaliable balance is :  99.0\n"
     ]
    }
   ],
   "source": [
    "class YourAccount: \n",
    "\n",
    "    def __init__(self): \n",
    "\n",
    "        self.ownerName = \"Surendra A\"\n",
    "        \n",
    "        self.Balance = 0\n",
    "        \n",
    "    def deposit(self): \n",
    "        \n",
    "        Amount = float(input(\"\\nEnter amount to be Deposited : \")) \n",
    "        \n",
    "        self.Balance += Amount \n",
    "        \n",
    "        print(\"\\nAmount Deposited is :\",Amount) \n",
    "  \n",
    "    def withdraw(self): \n",
    "        \n",
    "        Amount = float(input(\"\\nEnter amount to be Withdrawn : \")) \n",
    "        \n",
    "        if self.Balance >= Amount:\n",
    "            self.Balance -= Amount \n",
    "            print(\"\\nYour Withdrew Balance is :\", Amount) \n",
    "        else: \n",
    "            print(\"\\nInsufficient balance in the account...\")\n",
    "\n",
    "print(\"\\n###WELCOME TO YOUR ACCOUNT###\")\n",
    "    \n",
    "YA = YourAccount();\n",
    "\n",
    "print(\"\\nAccount Holder Name is :\",YA.ownerName)\n",
    "    \n",
    "print(\"\\nInitial Account Balance is :\",YA.Balance)\n",
    "   \n",
    "YA.deposit();\n",
    "    \n",
    "YA.withdraw();\n",
    "    \n",
    "print(\"\\nAvaliable balance is : \",YA.Balance)"
   ]
  },
  {
   "cell_type": "markdown",
   "metadata": {},
   "source": [
    "# Question-2"
   ]
  },
  {
   "cell_type": "code",
   "execution_count": 9,
   "metadata": {},
   "outputs": [],
   "source": [
    "# Cone Program"
   ]
  },
  {
   "cell_type": "code",
   "execution_count": 19,
   "metadata": {},
   "outputs": [
    {
     "name": "stdout",
     "output_type": "stream",
     "text": [
      "Enter the radius of cone: 5\n",
      "Enter the height of cone: 12\n",
      "\n",
      "Volume of Cone is:  314.15926535897927\n",
      "\n",
      "Surface Area of Cone is:  282.7433388230814\n"
     ]
    }
   ],
   "source": [
    "import math\n",
    "pi = math.pi\n",
    "\n",
    "class cone:\n",
    "    def __init__(self,r,h):\n",
    "        self.r=r\n",
    "        self.h=h\n",
    "    def volume(self):\n",
    "        res = (1.0/3) * pi * self.r * self.r * self.h\n",
    "        print(\"\\nVolume of Cone is: \",res)\n",
    "    def surfacearea(self):\n",
    "        l = math.sqrt(self.r * self.r + self.h * self.h)\n",
    "        res = pi * self.r * (self.r + l)\n",
    "        print(\"\\nSurface Area of Cone is: \",res)\n",
    "\n",
    "radius = float(input(\"Enter the radius of cone: \"))\n",
    "height = float(input(\"Enter the height of cone: \"))\n",
    "c = cone(radius,height)\n",
    "c.volume()\n",
    "c.surfacearea()"
   ]
  },
  {
   "cell_type": "code",
   "execution_count": null,
   "metadata": {},
   "outputs": [],
   "source": []
  }
 ],
 "metadata": {
  "kernelspec": {
   "display_name": "Python 3",
   "language": "python",
   "name": "python3"
  },
  "language_info": {
   "codemirror_mode": {
    "name": "ipython",
    "version": 3
   },
   "file_extension": ".py",
   "mimetype": "text/x-python",
   "name": "python",
   "nbconvert_exporter": "python",
   "pygments_lexer": "ipython3",
   "version": "3.8.3"
  }
 },
 "nbformat": 4,
 "nbformat_minor": 4
}
