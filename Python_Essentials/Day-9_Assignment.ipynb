{
 "cells": [
  {
   "cell_type": "markdown",
   "metadata": {},
   "source": [
    "# Question-1"
   ]
  },
  {
   "cell_type": "code",
   "execution_count": 1,
   "metadata": {},
   "outputs": [],
   "source": [
    "# Write a python Function for finding is a given number prime or not and do Unit Testing on it using\n",
    "# PyLint and Unittest Library."
   ]
  },
  {
   "cell_type": "code",
   "execution_count": 4,
   "metadata": {},
   "outputs": [
    {
     "name": "stdout",
     "output_type": "stream",
     "text": [
      "Requirement already satisfied: pylint in c:\\programdata\\anaconda3\\lib\\site-packages (2.5.3)\n",
      "Requirement already satisfied: colorama; sys_platform == \"win32\" in c:\\programdata\\anaconda3\\lib\\site-packages (from pylint) (0.4.3)\n",
      "Requirement already satisfied: astroid<=2.5,>=2.4.0 in c:\\programdata\\anaconda3\\lib\\site-packages (from pylint) (2.4.2)\n",
      "Requirement already satisfied: isort<5,>=4.2.5 in c:\\programdata\\anaconda3\\lib\\site-packages (from pylint) (4.3.21)\n",
      "Requirement already satisfied: toml>=0.7.1 in c:\\programdata\\anaconda3\\lib\\site-packages (from pylint) (0.10.1)\n",
      "Requirement already satisfied: mccabe<0.7,>=0.6 in c:\\programdata\\anaconda3\\lib\\site-packages (from pylint) (0.6.1)\n",
      "Requirement already satisfied: six~=1.12 in c:\\programdata\\anaconda3\\lib\\site-packages (from astroid<=2.5,>=2.4.0->pylint) (1.15.0)\n",
      "Requirement already satisfied: lazy-object-proxy==1.4.* in c:\\programdata\\anaconda3\\lib\\site-packages (from astroid<=2.5,>=2.4.0->pylint) (1.4.3)\n",
      "Requirement already satisfied: wrapt~=1.11 in c:\\programdata\\anaconda3\\lib\\site-packages (from astroid<=2.5,>=2.4.0->pylint) (1.11.2)\n"
     ]
    }
   ],
   "source": [
    "! pip install pylint"
   ]
  },
  {
   "cell_type": "code",
   "execution_count": 7,
   "metadata": {},
   "outputs": [
    {
     "name": "stdout",
     "output_type": "stream",
     "text": [
      "Overwriting prime.py\n"
     ]
    }
   ],
   "source": [
    "%%writefile prime.py\n",
    "\n",
    "'''\n",
    "Creating a python file for finding whethere the given number is prime number or not.\n",
    "'''\n",
    "\n",
    "def is_prime(num):\n",
    "    '''\n",
    "    function to check for prime number.\n",
    "    '''\n",
    "    if num >= 1:\n",
    "        for i in range(2, num):\n",
    "            if (num % i) == 0:\n",
    "                result = \"Not Prime Number\"\n",
    "            else:\n",
    "                result = \"Prime Number\"\n",
    "    else:\n",
    "        result = \"Not Prime Number\"\n",
    "    return result"
   ]
  },
  {
   "cell_type": "code",
   "execution_count": 8,
   "metadata": {},
   "outputs": [
    {
     "name": "stdout",
     "output_type": "stream",
     "text": [
      "\n",
      "-------------------------------------------------------------------\n",
      "\n",
      "Your code has been rated at 10.00/10 (previous run: 6.25/10, +3.75)\n",
      "\n",
      "\n",
      "\n"
     ]
    }
   ],
   "source": [
    "! pylint \"prime.py\""
   ]
  },
  {
   "cell_type": "code",
   "execution_count": 13,
   "metadata": {},
   "outputs": [
    {
     "name": "stdout",
     "output_type": "stream",
     "text": [
      "Overwriting primeUnitTesting.py\n"
     ]
    }
   ],
   "source": [
    "%%writefile primeUnitTesting.py\n",
    "import unittest\n",
    "import prime\n",
    "class testPrime(unittest.TestCase):\n",
    "    def testSinglePrime(self):\n",
    "        a = 5\n",
    "        result = prime.is_prime(a)\n",
    "        self.assertEquals(result, \"Prime Number\")\n",
    "        \n",
    "    def testingDoublePrime(self):\n",
    "        b = 13 \n",
    "        result = prime.is_prime(b)\n",
    "        self.assertEquals(result, \"Prime Number\")\n",
    "\n",
    "if __name__ == \"__main__\":\n",
    "    unittest.main()"
   ]
  },
  {
   "cell_type": "code",
   "execution_count": 14,
   "metadata": {},
   "outputs": [
    {
     "name": "stderr",
     "output_type": "stream",
     "text": [
      "primeUnitTesting.py:7: DeprecationWarning: Please use assertEqual instead.\n",
      "  self.assertEquals(result, \"Prime Number\")\n",
      "..\n",
      "----------------------------------------------------------------------\n",
      "Ran 2 tests in 0.001s\n",
      "\n",
      "OK\n"
     ]
    }
   ],
   "source": [
    "! python \"primeUnitTesting.py\""
   ]
  },
  {
   "cell_type": "markdown",
   "metadata": {},
   "source": [
    "# Question-2"
   ]
  },
  {
   "cell_type": "code",
   "execution_count": 15,
   "metadata": {},
   "outputs": [],
   "source": [
    "# Make a small generator program for returning armstrong numbers in between 1-1000 in a generator object."
   ]
  },
  {
   "cell_type": "code",
   "execution_count": 18,
   "metadata": {},
   "outputs": [],
   "source": [
    "lst = list(range(1,1000+1))\n",
    "\n",
    "# Genarator to genarate armstrong number\n",
    "def armstrong(lst): \n",
    "    for num in lst:\n",
    "        sum = 0\n",
    "        temp = num\n",
    "        while temp > 0:\n",
    "            digit = temp % 10\n",
    "            sum += (digit**3)\n",
    "            temp //= 10\n",
    "        if num == sum:\n",
    "            yield num"
   ]
  },
  {
   "cell_type": "code",
   "execution_count": 19,
   "metadata": {},
   "outputs": [
    {
     "data": {
      "text/plain": [
       "[1, 153, 370, 371, 407]"
      ]
     },
     "execution_count": 19,
     "metadata": {},
     "output_type": "execute_result"
    }
   ],
   "source": [
    "res=armstrong(lst)\n",
    "list(res)"
   ]
  },
  {
   "cell_type": "code",
   "execution_count": null,
   "metadata": {},
   "outputs": [],
   "source": []
  }
 ],
 "metadata": {
  "kernelspec": {
   "display_name": "Python 3",
   "language": "python",
   "name": "python3"
  },
  "language_info": {
   "codemirror_mode": {
    "name": "ipython",
    "version": 3
   },
   "file_extension": ".py",
   "mimetype": "text/x-python",
   "name": "python",
   "nbconvert_exporter": "python",
   "pygments_lexer": "ipython3",
   "version": "3.8.3"
  }
 },
 "nbformat": 4,
 "nbformat_minor": 4
}
