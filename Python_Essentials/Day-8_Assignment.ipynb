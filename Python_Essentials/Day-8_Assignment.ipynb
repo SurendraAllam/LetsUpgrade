{
 "cells": [
  {
   "cell_type": "markdown",
   "metadata": {},
   "source": [
    "# Question-1"
   ]
  },
  {
   "cell_type": "code",
   "execution_count": 20,
   "metadata": {},
   "outputs": [],
   "source": [
    "# Write a decorator function for your taking input for you any kind of function you want to build"
   ]
  },
  {
   "cell_type": "code",
   "execution_count": 21,
   "metadata": {},
   "outputs": [],
   "source": [
    "# Decorator\n",
    "def getInput(argfunc):\n",
    "    \n",
    "    def wrap_func():\n",
    "    \n",
    "        num1 = int(input(\"\\nEnter First Number:\"))\n",
    "        \n",
    "        num2 = int(input(\"\\nEnter Second Number:\"))\n",
    "        \n",
    "        argfunc(num1,num2)   \n",
    "    \n",
    "    return wrap_func"
   ]
  },
  {
   "cell_type": "code",
   "execution_count": 22,
   "metadata": {},
   "outputs": [],
   "source": [
    "# Call Decorator\n",
    "@getInput\n",
    "\n",
    "def oddNum(first,last):\n",
    "    print(\"\\nPrime numbers in the range of\",first,\"to\",last,\"is:\\n\")\n",
    "    for i in range(first,last+1):\n",
    "        if i%2 != 0:\n",
    "            print(i)"
   ]
  },
  {
   "cell_type": "code",
   "execution_count": 19,
   "metadata": {},
   "outputs": [
    {
     "name": "stdout",
     "output_type": "stream",
     "text": [
      "\n",
      "Enter First Number:1\n",
      "\n",
      "Enter Second Number:10\n",
      "\n",
      "Prime numbers in the range of 1 to 10 is:\n",
      "\n",
      "1\n",
      "3\n",
      "5\n",
      "7\n",
      "9\n"
     ]
    }
   ],
   "source": [
    "oddNum()"
   ]
  },
  {
   "cell_type": "markdown",
   "metadata": {},
   "source": [
    "# Question-2"
   ]
  },
  {
   "cell_type": "code",
   "execution_count": 26,
   "metadata": {},
   "outputs": [],
   "source": [
    "# For this challenge you need to develop a Python program to open a file in read only mode and try\n",
    "# writing something to it and handle the subsequent errors using Exception Handling."
   ]
  },
  {
   "cell_type": "code",
   "execution_count": 28,
   "metadata": {},
   "outputs": [
    {
     "name": "stdout",
     "output_type": "stream",
     "text": [
      "Writing Myfile.txt\n"
     ]
    }
   ],
   "source": [
    "%%writefile Myfile.txt\n",
    "\n",
    "My name is surendra\n",
    "Python is the best programming language."
   ]
  },
  {
   "cell_type": "code",
   "execution_count": 29,
   "metadata": {},
   "outputs": [
    {
     "name": "stdout",
     "output_type": "stream",
     "text": [
      "Error has been occuerd\n",
      "Error massage is: not writable\n"
     ]
    }
   ],
   "source": [
    "# Exception Handling\n",
    "try:\n",
    "    file = open(\"Myfile.txt\",\"r\")\n",
    "    file.write(\"I Love Python....\")\n",
    "    print(\"Write operation is done...\")\n",
    "except Exception as e:\n",
    "    print(\"Error has been occuerd\")\n",
    "    print(\"Error massage is:\",e)"
   ]
  },
  {
   "cell_type": "code",
   "execution_count": null,
   "metadata": {},
   "outputs": [],
   "source": []
  }
 ],
 "metadata": {
  "kernelspec": {
   "display_name": "Python 3",
   "language": "python",
   "name": "python3"
  },
  "language_info": {
   "codemirror_mode": {
    "name": "ipython",
    "version": 3
   },
   "file_extension": ".py",
   "mimetype": "text/x-python",
   "name": "python",
   "nbconvert_exporter": "python",
   "pygments_lexer": "ipython3",
   "version": "3.8.3"
  }
 },
 "nbformat": 4,
 "nbformat_minor": 4
}
